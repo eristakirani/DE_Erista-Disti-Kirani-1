{
 "cells": [
  {
   "cell_type": "code",
   "execution_count": 1,
   "metadata": {},
   "outputs": [
    {
     "name": "stdout",
     "output_type": "stream",
     "text": [
      "Requirement already satisfied: pandas in c:\\users\\acer\\appdata\\local\\programs\\python\\python312\\lib\\site-packages (2.2.2)\n",
      "Requirement already satisfied: numpy>=1.26.0 in c:\\users\\acer\\appdata\\local\\programs\\python\\python312\\lib\\site-packages (from pandas) (1.26.4)\n",
      "Requirement already satisfied: python-dateutil>=2.8.2 in c:\\users\\acer\\appdata\\roaming\\python\\python312\\site-packages (from pandas) (2.9.0.post0)\n",
      "Requirement already satisfied: pytz>=2020.1 in c:\\users\\acer\\appdata\\local\\programs\\python\\python312\\lib\\site-packages (from pandas) (2024.1)\n",
      "Requirement already satisfied: tzdata>=2022.7 in c:\\users\\acer\\appdata\\local\\programs\\python\\python312\\lib\\site-packages (from pandas) (2024.1)\n",
      "Requirement already satisfied: six>=1.5 in c:\\users\\acer\\appdata\\roaming\\python\\python312\\site-packages (from python-dateutil>=2.8.2->pandas) (1.16.0)\n",
      "Note: you may need to restart the kernel to use updated packages.\n",
      "Requirement already satisfied: firebase-admin in c:\\users\\acer\\appdata\\local\\programs\\python\\python312\\lib\\site-packages (6.5.0)\n",
      "Requirement already satisfied: cachecontrol>=0.12.6 in c:\\users\\acer\\appdata\\local\\programs\\python\\python312\\lib\\site-packages (from firebase-admin) (0.14.0)\n",
      "Requirement already satisfied: google-api-python-client>=1.7.8 in c:\\users\\acer\\appdata\\local\\programs\\python\\python312\\lib\\site-packages (from firebase-admin) (2.126.0)\n",
      "Requirement already satisfied: google-cloud-storage>=1.37.1 in c:\\users\\acer\\appdata\\local\\programs\\python\\python312\\lib\\site-packages (from firebase-admin) (2.16.0)\n",
      "Requirement already satisfied: pyjwt>=2.5.0 in c:\\users\\acer\\appdata\\local\\programs\\python\\python312\\lib\\site-packages (from pyjwt[crypto]>=2.5.0->firebase-admin) (2.8.0)\n",
      "Requirement already satisfied: google-api-core<3.0.0dev,>=1.22.1 in c:\\users\\acer\\appdata\\local\\programs\\python\\python312\\lib\\site-packages (from google-api-core[grpc]<3.0.0dev,>=1.22.1; platform_python_implementation != \"PyPy\"->firebase-admin) (2.18.0)\n",
      "Requirement already satisfied: google-cloud-firestore>=2.9.1 in c:\\users\\acer\\appdata\\local\\programs\\python\\python312\\lib\\site-packages (from firebase-admin) (2.16.0)\n",
      "Requirement already satisfied: requests>=2.16.0 in c:\\users\\acer\\appdata\\local\\programs\\python\\python312\\lib\\site-packages (from cachecontrol>=0.12.6->firebase-admin) (2.31.0)\n",
      "Requirement already satisfied: msgpack<2.0.0,>=0.5.2 in c:\\users\\acer\\appdata\\local\\programs\\python\\python312\\lib\\site-packages (from cachecontrol>=0.12.6->firebase-admin) (1.0.8)\n",
      "Requirement already satisfied: googleapis-common-protos<2.0.dev0,>=1.56.2 in c:\\users\\acer\\appdata\\local\\programs\\python\\python312\\lib\\site-packages (from google-api-core<3.0.0dev,>=1.22.1->google-api-core[grpc]<3.0.0dev,>=1.22.1; platform_python_implementation != \"PyPy\"->firebase-admin) (1.63.0)\n",
      "Requirement already satisfied: protobuf!=3.20.0,!=3.20.1,!=4.21.0,!=4.21.1,!=4.21.2,!=4.21.3,!=4.21.4,!=4.21.5,<5.0.0.dev0,>=3.19.5 in c:\\users\\acer\\appdata\\local\\programs\\python\\python312\\lib\\site-packages (from google-api-core<3.0.0dev,>=1.22.1->google-api-core[grpc]<3.0.0dev,>=1.22.1; platform_python_implementation != \"PyPy\"->firebase-admin) (4.25.3)\n",
      "Requirement already satisfied: proto-plus<2.0.0dev,>=1.22.3 in c:\\users\\acer\\appdata\\local\\programs\\python\\python312\\lib\\site-packages (from google-api-core<3.0.0dev,>=1.22.1->google-api-core[grpc]<3.0.0dev,>=1.22.1; platform_python_implementation != \"PyPy\"->firebase-admin) (1.23.0)\n",
      "Requirement already satisfied: google-auth<3.0.dev0,>=2.14.1 in c:\\users\\acer\\appdata\\local\\programs\\python\\python312\\lib\\site-packages (from google-api-core<3.0.0dev,>=1.22.1->google-api-core[grpc]<3.0.0dev,>=1.22.1; platform_python_implementation != \"PyPy\"->firebase-admin) (2.29.0)\n",
      "Requirement already satisfied: grpcio<2.0dev,>=1.33.2 in c:\\users\\acer\\appdata\\local\\programs\\python\\python312\\lib\\site-packages (from google-api-core[grpc]<3.0.0dev,>=1.22.1; platform_python_implementation != \"PyPy\"->firebase-admin) (1.62.2)\n",
      "Requirement already satisfied: grpcio-status<2.0.dev0,>=1.33.2 in c:\\users\\acer\\appdata\\local\\programs\\python\\python312\\lib\\site-packages (from google-api-core[grpc]<3.0.0dev,>=1.22.1; platform_python_implementation != \"PyPy\"->firebase-admin) (1.62.2)\n",
      "Requirement already satisfied: httplib2<1.dev0,>=0.19.0 in c:\\users\\acer\\appdata\\local\\programs\\python\\python312\\lib\\site-packages (from google-api-python-client>=1.7.8->firebase-admin) (0.22.0)\n",
      "Requirement already satisfied: google-auth-httplib2<1.0.0,>=0.2.0 in c:\\users\\acer\\appdata\\local\\programs\\python\\python312\\lib\\site-packages (from google-api-python-client>=1.7.8->firebase-admin) (0.2.0)\n",
      "Requirement already satisfied: uritemplate<5,>=3.0.1 in c:\\users\\acer\\appdata\\local\\programs\\python\\python312\\lib\\site-packages (from google-api-python-client>=1.7.8->firebase-admin) (4.1.1)\n",
      "Requirement already satisfied: google-cloud-core<3.0.0dev,>=1.4.1 in c:\\users\\acer\\appdata\\local\\programs\\python\\python312\\lib\\site-packages (from google-cloud-firestore>=2.9.1->firebase-admin) (2.4.1)\n",
      "Requirement already satisfied: google-resumable-media>=2.6.0 in c:\\users\\acer\\appdata\\local\\programs\\python\\python312\\lib\\site-packages (from google-cloud-storage>=1.37.1->firebase-admin) (2.7.0)\n",
      "Requirement already satisfied: google-crc32c<2.0dev,>=1.0 in c:\\users\\acer\\appdata\\local\\programs\\python\\python312\\lib\\site-packages (from google-cloud-storage>=1.37.1->firebase-admin) (1.5.0)\n",
      "Requirement already satisfied: cryptography>=3.4.0 in c:\\users\\acer\\appdata\\local\\programs\\python\\python312\\lib\\site-packages (from pyjwt[crypto]>=2.5.0->firebase-admin) (41.0.7)\n",
      "Requirement already satisfied: cffi>=1.12 in c:\\users\\acer\\appdata\\local\\programs\\python\\python312\\lib\\site-packages (from cryptography>=3.4.0->pyjwt[crypto]>=2.5.0->firebase-admin) (1.16.0)\n",
      "Requirement already satisfied: cachetools<6.0,>=2.0.0 in c:\\users\\acer\\appdata\\local\\programs\\python\\python312\\lib\\site-packages (from google-auth<3.0.dev0,>=2.14.1->google-api-core<3.0.0dev,>=1.22.1->google-api-core[grpc]<3.0.0dev,>=1.22.1; platform_python_implementation != \"PyPy\"->firebase-admin) (5.3.3)\n",
      "Requirement already satisfied: pyasn1-modules>=0.2.1 in c:\\users\\acer\\appdata\\local\\programs\\python\\python312\\lib\\site-packages (from google-auth<3.0.dev0,>=2.14.1->google-api-core<3.0.0dev,>=1.22.1->google-api-core[grpc]<3.0.0dev,>=1.22.1; platform_python_implementation != \"PyPy\"->firebase-admin) (0.4.0)\n",
      "Requirement already satisfied: rsa<5,>=3.1.4 in c:\\users\\acer\\appdata\\local\\programs\\python\\python312\\lib\\site-packages (from google-auth<3.0.dev0,>=2.14.1->google-api-core<3.0.0dev,>=1.22.1->google-api-core[grpc]<3.0.0dev,>=1.22.1; platform_python_implementation != \"PyPy\"->firebase-admin) (4.9)\n",
      "Requirement already satisfied: pyparsing!=3.0.0,!=3.0.1,!=3.0.2,!=3.0.3,<4,>=2.4.2 in c:\\users\\acer\\appdata\\local\\programs\\python\\python312\\lib\\site-packages (from httplib2<1.dev0,>=0.19.0->google-api-python-client>=1.7.8->firebase-admin) (3.1.2)\n",
      "Requirement already satisfied: charset-normalizer<4,>=2 in c:\\users\\acer\\appdata\\local\\programs\\python\\python312\\lib\\site-packages (from requests>=2.16.0->cachecontrol>=0.12.6->firebase-admin) (3.3.2)\n",
      "Requirement already satisfied: idna<4,>=2.5 in c:\\users\\acer\\appdata\\local\\programs\\python\\python312\\lib\\site-packages (from requests>=2.16.0->cachecontrol>=0.12.6->firebase-admin) (3.6)\n",
      "Requirement already satisfied: urllib3<3,>=1.21.1 in c:\\users\\acer\\appdata\\local\\programs\\python\\python312\\lib\\site-packages (from requests>=2.16.0->cachecontrol>=0.12.6->firebase-admin) (1.26.18)\n",
      "Requirement already satisfied: certifi>=2017.4.17 in c:\\users\\acer\\appdata\\local\\programs\\python\\python312\\lib\\site-packages (from requests>=2.16.0->cachecontrol>=0.12.6->firebase-admin) (2024.2.2)\n",
      "Requirement already satisfied: pycparser in c:\\users\\acer\\appdata\\local\\programs\\python\\python312\\lib\\site-packages (from cffi>=1.12->cryptography>=3.4.0->pyjwt[crypto]>=2.5.0->firebase-admin) (2.22)\n",
      "Requirement already satisfied: pyasn1<0.7.0,>=0.4.6 in c:\\users\\acer\\appdata\\local\\programs\\python\\python312\\lib\\site-packages (from pyasn1-modules>=0.2.1->google-auth<3.0.dev0,>=2.14.1->google-api-core<3.0.0dev,>=1.22.1->google-api-core[grpc]<3.0.0dev,>=1.22.1; platform_python_implementation != \"PyPy\"->firebase-admin) (0.6.0)\n",
      "Note: you may need to restart the kernel to use updated packages.\n"
     ]
    }
   ],
   "source": [
    "%pip install pandas\n",
    "%pip install firebase-admin"
   ]
  },
  {
   "cell_type": "code",
   "execution_count": 2,
   "metadata": {},
   "outputs": [
    {
     "name": "stdout",
     "output_type": "stream",
     "text": [
      "Upload ke Firebase Storage berhasil.\n",
      "Proses berhasil.\n"
     ]
    }
   ],
   "source": [
    "import pandas as pd\n",
    "\n",
    "# Fungsi untuk ekstraksi data dari CSV, transformasi, dan upload ke Firebase Storage\n",
    "def process_and_upload_data(csv_file):\n",
    "    try:\n",
    "        # Ekstraksi data dari CSV\n",
    "        df = pd.read_csv(csv_file)\n",
    "\n",
    "        # Transformasi data\n",
    "        df_cleaned = df.drop_duplicates().dropna()\n",
    "        df_cleaned = df_cleaned[df_cleaned['age'] != \"-\"]\n",
    "        df_cleaned = df_cleaned[df_cleaned['favorite_front_end'] != \"-\"]\n",
    "        \n",
    "        # Simpan data yang telah ditransformasi ke CSV\n",
    "        cleaned_csv = \"survey_cleaned.csv\"\n",
    "        df_cleaned.to_csv(cleaned_csv, index=False)\n",
    "        \n",
    "        # Load data yang telah ditransformasi ke Firebase Storage\n",
    "        upload_to_firebase(cleaned_csv)\n",
    "        \n",
    "        print(\"Proses berhasil.\")\n",
    "    except Exception as e:\n",
    "        print(\"Error:\", e)\n",
    "\n",
    "# Fungsi untuk upload data ke Firebase Storage\n",
    "def upload_to_firebase(csv_file):\n",
    "    import firebase_admin\n",
    "    from firebase_admin import credentials, storage\n",
    "\n",
    "    try:\n",
    "        cred = credentials.Certificate(\"keyErista.json\")\n",
    "        firebase_admin.initialize_app(cred, {\n",
    "            \"storageBucket\": \"erista-cloud.appspot.com\"\n",
    "        })\n",
    "\n",
    "        bucket = storage.bucket()\n",
    "        blob = bucket.blob(csv_file)\n",
    "        blob.upload_from_filename(csv_file, content_type='text/csv')\n",
    "\n",
    "        print(\"Upload ke Firebase Storage berhasil.\")\n",
    "    except Exception as e:\n",
    "        print(\"Error:\", e)\n",
    "\n",
    "# Jalankan fungsi utama\n",
    "if __name__ == \"__main__\":\n",
    "    process_and_upload_data(\"survey.csv\")"
   ]
  },
  {
   "cell_type": "code",
   "execution_count": 7,
   "metadata": {},
   "outputs": [
    {
     "name": "stdout",
     "output_type": "stream",
     "text": [
      "Upload ke Firebase Storage berhasil.\n",
      "Proses berhasil.\n"
     ]
    }
   ],
   "source": [
    "import pandas as pd\n",
    "import requests\n",
    "from io import StringIO\n",
    "\n",
    "# Fungsi untuk ekstraksi data dari JSON URL, transformasi, dan upload ke Firebase Storage\n",
    "def process_and_upload_data(json_url, filename):\n",
    "    try:\n",
    "        # Ekstraksi data dari JSON URL\n",
    "        response = requests.get(json_url)\n",
    "        data = response.json()\n",
    "        df = pd.DataFrame(data)\n",
    "        \n",
    "        # Transformasi data\n",
    "        df_transformed = df[(df['payment_method'] == 'credit card') & (df['status'] == 'success')]\n",
    "        \n",
    "        # Simpan DataFrame yang telah ditransformasi ke dalam string CSV\n",
    "        csv_data = df_transformed.to_csv(index=False)\n",
    "        \n",
    "        # Upload data yang telah ditransformasi ke Firebase Storage\n",
    "        upload_to_firebase(csv_data, filename)\n",
    "        \n",
    "        print(\"Proses berhasil.\")\n",
    "    except Exception as e:\n",
    "        print(\"Error:\", e)\n",
    "\n",
    "# Fungsi untuk upload data ke Firebase Storage\n",
    "def upload_to_firebase(csv_data, filename):\n",
    "    import firebase_admin\n",
    "    from firebase_admin import credentials, storage\n",
    "\n",
    "    try:\n",
    "        if not firebase_admin._apps:\n",
    "            cred = credentials.Certificate(\"keyErista.json\")\n",
    "            firebase_admin.initialize_app(cred, {\n",
    "                \"storageBucket\": \"erista-cloud.appspot.com\"\n",
    "            })\n",
    "\n",
    "        bucket = storage.bucket()\n",
    "        blob = bucket.blob(filename)\n",
    "        blob.upload_from_string(csv_data, content_type='text/csv')\n",
    "\n",
    "        print(\"Upload ke Firebase Storage berhasil.\")\n",
    "    except Exception as e:\n",
    "        print(\"Error:\", e)\n",
    "\n",
    "# Jalankan fungsi utama\n",
    "if __name__ == \"__main__\":\n",
    "    process_and_upload_data(\n",
    "        json_url=\"https://gist.githubusercontent.com/nadirbslmh/8fc9cc6cd5cbaaf5cbff63b090fb497e/raw/a7bf3e1edab88b04314a40a9de3ed744bc86d0e9/ecommerce.json\",\n",
    "        filename=\"transaksi.csv\"\n",
    "    )"
   ]
  }
 ],
 "metadata": {
  "kernelspec": {
   "display_name": "Python 3",
   "language": "python",
   "name": "python3"
  },
  "language_info": {
   "codemirror_mode": {
    "name": "ipython",
    "version": 3
   },
   "file_extension": ".py",
   "mimetype": "text/x-python",
   "name": "python",
   "nbconvert_exporter": "python",
   "pygments_lexer": "ipython3",
   "version": "3.12.2"
  }
 },
 "nbformat": 4,
 "nbformat_minor": 2
}
