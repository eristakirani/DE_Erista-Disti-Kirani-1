{
 "cells": [
  {
   "cell_type": "code",
   "execution_count": 1,
   "metadata": {},
   "outputs": [
    {
     "name": "stdout",
     "output_type": "stream",
     "text": [
      "Data berhasil diekstraksi.\n",
      "Data berhasil ditransformasi.\n",
      "Data berhasil diunggah ke Firebase Storage.\n"
     ]
    }
   ],
   "source": [
    "import pandas as pd\n",
    "import requests\n",
    "import firebase_admin\n",
    "from firebase_admin import credentials, storage\n",
    "\n",
    "# Fungsi untuk ekstraksi data dari JSON URL\n",
    "def extract_data_json(json_url):\n",
    "    try:\n",
    "        response = requests.get(json_url)\n",
    "        data = response.json()\n",
    "        df = pd.DataFrame(data)\n",
    "        print(\"Data berhasil diekstraksi.\")\n",
    "        return df\n",
    "    except Exception as e:\n",
    "        print(\"Gagal mengekstraksi data:\", e)\n",
    "        return pd.DataFrame()\n",
    "\n",
    "# Fungsi untuk transformasi data\n",
    "def transform_data(df):\n",
    "    symbols = ['GOOGL', 'AMZN', 'MSFT', 'AAPL']\n",
    "    filtered_df = df[df['stock_symbol'].isin(symbols)]\n",
    "    high_price_df = filtered_df[filtered_df['trade_price'] > 500]\n",
    "    print(\"Data berhasil ditransformasi.\")\n",
    "    return high_price_df\n",
    "\n",
    "# Fungsi untuk load ke Google Storage\n",
    "def load_data_to_firebase(df, storage_bucket, filename):\n",
    "    try:\n",
    "        if not firebase_admin._apps:\n",
    "            cred = credentials.Certificate(\"keyErista.json\")\n",
    "            firebase_admin.initialize_app(cred, {\"storageBucket\": storage_bucket})\n",
    "        \n",
    "        df.to_parquet(filename)\n",
    "        blob = storage.bucket(storage_bucket).blob(filename)\n",
    "        blob.upload_from_filename(filename, content_type='parquet')\n",
    "        \n",
    "        print(\"Data berhasil diunggah ke Firebase Storage.\")\n",
    "    except Exception as e:\n",
    "        print(\"Terjadi kesalahan:\", e)\n",
    "\n",
    "# Main function\n",
    "if __name__ == \"__main__\":\n",
    "    try:\n",
    "        json_url = \"https://gist.githubusercontent.com/nadirbslmh/93b62fdcfa694d4ec07bed9b3c94e401/raw/c07971341361e23fd4f3a880437c4d8e4ebcfafc/stock_trades.json\"\n",
    "        \n",
    "        # Ekstraksi data\n",
    "        extracted_df = extract_data_json(json_url)\n",
    "        \n",
    "        # Transformasi data\n",
    "        if not extracted_df.empty:\n",
    "            transformed_df = transform_data(extracted_df)\n",
    "            \n",
    "            storage_bucket = \"erista-cloud.appspot.com\"\n",
    "            filename = \"prioritas2.parquet\"\n",
    "            \n",
    "            # Load data yang telah ditransformasi ke Google Storage\n",
    "            load_data_to_firebase(transformed_df, storage_bucket, filename)\n",
    "    except Exception as e:\n",
    "        print(\"Terjadi kesalahan:\", e)"
   ]
  }
 ],
 "metadata": {
  "kernelspec": {
   "display_name": "Python 3",
   "language": "python",
   "name": "python3"
  },
  "language_info": {
   "codemirror_mode": {
    "name": "ipython",
    "version": 3
   },
   "file_extension": ".py",
   "mimetype": "text/x-python",
   "name": "python",
   "nbconvert_exporter": "python",
   "pygments_lexer": "ipython3",
   "version": "3.12.2"
  }
 },
 "nbformat": 4,
 "nbformat_minor": 2
}
