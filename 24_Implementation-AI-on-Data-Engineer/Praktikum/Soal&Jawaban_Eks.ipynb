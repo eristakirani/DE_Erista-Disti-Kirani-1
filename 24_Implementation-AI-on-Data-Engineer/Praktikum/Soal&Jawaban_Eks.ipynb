{
 "cells": [
  {
   "cell_type": "code",
   "execution_count": 1,
   "metadata": {},
   "outputs": [],
   "source": [
    "import os\n",
    "from dotenv import load_dotenv\n",
    "from openai import OpenAI\n",
    "import pandas as pd"
   ]
  },
  {
   "cell_type": "code",
   "execution_count": 2,
   "metadata": {},
   "outputs": [],
   "source": [
    "load_dotenv()\n",
    "\n",
    "api = os.getenv(\"OPEN_API_KEY\")\n",
    "\n",
    "client = OpenAI(\n",
    "    api_key=api,\n",
    "    base_url=\"https://api.naga.ac/v1\"\n",
    "    )"
   ]
  },
  {
   "cell_type": "code",
   "execution_count": 3,
   "metadata": {},
   "outputs": [],
   "source": [
    "def generate(prompt, model=\"gpt-3.5-turbo\"):\n",
    "    response = client.chat.completions.create(\n",
    "        model=model,\n",
    "        messages=[\n",
    "            {\n",
    "                \"role\": \"user\",\n",
    "                \"content\": prompt,\n",
    "            },\n",
    "        ],\n",
    "    )\n",
    "\n",
    "    return response.choices[0].message.content"
   ]
  },
  {
   "cell_type": "code",
   "execution_count": 4,
   "metadata": {},
   "outputs": [],
   "source": [
    "df = pd.read_csv(\"supermarket_sales.csv\")"
   ]
  },
  {
   "cell_type": "code",
   "execution_count": 5,
   "metadata": {},
   "outputs": [
    {
     "name": "stdout",
     "output_type": "stream",
     "text": [
      "Dari data yang diberikan, terdapat beberapa hal yang dapat dianalisis dan memberikan rekomendasi untuk pengambilan keputusan bisnis:\n",
      "\n",
      "1. Analisis Penjualan Berdasarkan Cabang:\n",
      "   - Cabang A memiliki jumlah penjualan paling tinggi dibandingkan cabang lain.\n",
      "   - Mungkin perlu dilakukan analisis lebih lanjut untuk mengetahui penyebab perbedaan jumlah penjualan antar cabang.\n",
      "\n",
      "2. Analisis Penjualan Berdasarkan Kota:\n",
      "   - Kota Yangon memiliki jumlah penjualan paling tinggi dibandingkan Naypyitaw dan Mandalay.\n",
      "   - Mungkin perlu fokus pada peningkatan penjualan di Naypyitaw dan Mandalay.\n",
      "\n",
      "3. Analisis Tingkat Keanggotaan Pelanggan:\n",
      "   - Member memiliki jumlah penjualan lebih tinggi dibandingkan dengan pelanggan Normal.\n",
      "   - Mungkin perlu strategi untuk meningkatkan jumlah pelanggan Member.\n",
      "\n",
      "4. Analisis Jenis Kelamin Pelanggan:\n",
      "   - Belum ada informasi yang signifikan dari data terkait jenis kelamin pelanggan.\n",
      "\n",
      "5. Rekomendasi Umum:\n",
      "   - Melakukan analisis lebih lanjut terhadap faktor-faktor yang mempengaruhi jumlah penjualan dan rating.\n",
      "   - Memperkuat strategi pemasaran untuk menarik lebih banyak pelanggan Member.\n",
      "   - Memperhatikan kebutuhan dan preferensi pelanggan di setiap cabang/kota.\n",
      "\n",
      "Dengan melakukan analisis lebih mendalam terhadap faktor-faktor di atas, diharapkan dapat membantu dalam pengambilan keputusan bisnis yang lebih baik untuk meningkatkan penjualan dan kepuasan pelanggan.\n"
     ]
    }
   ],
   "source": [
    "perintah = (f\"Analisislah dari data yang sudah saya berikan, serta berikan rekomendasi yang dapat membantu dalam pengambilan keputusan bisnis dataset berikut\\n\\n{df}. \")\n",
    "\n",
    "output_tren_penjualan = generate(perintah)\n",
    "print(output_tren_penjualan)"
   ]
  },
  {
   "cell_type": "markdown",
   "metadata": {},
   "source": [
    "## Analisis Hasil"
   ]
  },
  {
   "cell_type": "markdown",
   "metadata": {},
   "source": [
    "### Rencana Implementasi Strategi:\n",
    "\n",
    "1. **Analisis Lebih Mendalam terhadap Penjualan Cabang:**\n",
    "   - Menggunakan teknik analisis data lanjutan seperti machine learning untuk mengidentifikasi faktor-faktor yang mempengaruhi perbedaan penjualan antar cabang.\n",
    "   - Menggunakan model prediktif untuk meramalkan penjualan di setiap cabang berdasarkan faktor-faktor yang relevan.\n",
    "   - Mengoptimalkan stok dan alokasi sumber daya berdasarkan ramalan penjualan untuk meningkatkan efisiensi operasional dan menghindari kekurangan atau kelebihan stok.\n",
    "\n",
    "2. **Peningkatan Penjualan di Kota Naypyitaw dan Mandalay:**\n",
    "   - Melakukan analisis pasar yang mendalam menggunakan AI untuk memahami preferensi pelanggan lokal dan tren pembelian.\n",
    "   - Menerapkan strategi pemasaran yang disesuaikan dengan masing-masing kota berdasarkan hasil analisis pasar, misalnya promosi lokal, kampanye iklan yang disesuaikan, atau kemitraan dengan bisnis lokal.\n",
    "   - Menerapkan program loyalitas yang berfokus pada pelanggan di Naypyitaw dan Mandalay untuk mendorong pembelian berulang.\n",
    "\n",
    "3. **Strategi Peningkatan Keanggotaan Pelanggan:**\n",
    "   - Menggunakan teknik machine learning untuk mengidentifikasi pola pembelian dan perilaku pelanggan yang berpotensi menjadi anggota.\n",
    "   - Mengembangkan program referral yang didorong oleh AI untuk mendorong pelanggan yang ada untuk merekomendasikan layanan kepada teman dan keluarga.\n",
    "   - Menerapkan sistem rekomendasi produk yang dipersonalisasi berdasarkan preferensi dan riwayat pembelian pelanggan, untuk meningkatkan konversi menjadi anggota.\n",
    "\n",
    "### Peningkatan Kepuasan Pelanggan dan Loyalitas melalui AI:\n",
    "\n",
    "1. **Analisis Sentimen Pelanggan:**\n",
    "   - Menggunakan teknik pemrosesan bahasa alami (NLP) untuk menganalisis umpan balik pelanggan dari berbagai platform, termasuk media sosial, ulasan online, dan survei pelanggan.\n",
    "   - Menerapkan model NLP untuk mengidentifikasi isu-isu yang mempengaruhi kepuasan pelanggan dan menanggapi mereka dengan cepat.\n",
    "\n",
    "2. **Personalisasi Pengalaman Pelanggan:**\n",
    "   - Menerapkan sistem rekomendasi yang didukung oleh AI untuk menawarkan produk atau layanan yang sesuai dengan preferensi dan riwayat pembelian pelanggan.\n",
    "   - Menggunakan analisis data untuk memahami preferensi dan kebutuhan individual pelanggan, kemudian menyesuaikan strategi pemasaran dan layanan pelanggan sesuai dengan temuan tersebut.\n",
    "\n",
    "3. **Peningkatan Layanan Pelanggan:**\n",
    "   - Menggunakan chatbot berbasis AI untuk memberikan layanan pelanggan yang cepat dan responsif, seperti menyediakan informasi produk, membantu pelanggan dalam proses pembelian, dan menanggapi pertanyaan umum.\n",
    "   - Menerapkan analisis prediktif untuk mengantisipasi kebutuhan pelanggan dan menawarkan solusi sebelum masalah muncul."
   ]
  }
 ],
 "metadata": {
  "kernelspec": {
   "display_name": "Python 3",
   "language": "python",
   "name": "python3"
  },
  "language_info": {
   "codemirror_mode": {
    "name": "ipython",
    "version": 3
   },
   "file_extension": ".py",
   "mimetype": "text/x-python",
   "name": "python",
   "nbconvert_exporter": "python",
   "pygments_lexer": "ipython3",
   "version": "3.12.2"
  }
 },
 "nbformat": 4,
 "nbformat_minor": 2
}
